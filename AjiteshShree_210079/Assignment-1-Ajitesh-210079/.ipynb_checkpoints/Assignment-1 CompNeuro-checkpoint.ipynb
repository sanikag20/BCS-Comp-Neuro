{
 "cells": [
  {
   "cell_type": "markdown",
   "id": "c8cf66c4",
   "metadata": {},
   "source": [
    "# <u> Assignment-1 CompNeuro: </u> "
   ]
  },
  {
   "cell_type": "markdown",
   "id": "e4b96534",
   "metadata": {},
   "source": [
    "## Q1."
   ]
  },
  {
   "cell_type": "markdown",
   "id": "e97a472e",
   "metadata": {},
   "source": [
    "  "
   ]
  },
  {
   "cell_type": "code",
   "execution_count": 14,
   "id": "ad97ee97",
   "metadata": {},
   "outputs": [
    {
     "name": "stdout",
     "output_type": "stream",
     "text": [
      " P: print array (initially array is empty) \n",
      " A: add number \n",
      " S: sort array \n",
      " R: number at rth position if the array is sorted \n",
      " N: disallow/allow duplicate entries \n",
      " Q: quit \n",
      "\n",
      "Select from menu: P\n",
      "[]\n",
      " P: print array (initially array is empty) \n",
      " A: add number \n",
      " S: sort array \n",
      " R: number at rth position if the array is sorted \n",
      " N: disallow/allow duplicate entries \n",
      " Q: quit \n",
      "\n",
      "Select from menu: A\n",
      "Enter number you want to add in array:11\n",
      " P: print array (initially array is empty) \n",
      " A: add number \n",
      " S: sort array \n",
      " R: number at rth position if the array is sorted \n",
      " N: disallow/allow duplicate entries \n",
      " Q: quit \n",
      "\n",
      "Select from menu: A\n",
      "Enter number you want to add in array:99\n",
      " P: print array (initially array is empty) \n",
      " A: add number \n",
      " S: sort array \n",
      " R: number at rth position if the array is sorted \n",
      " N: disallow/allow duplicate entries \n",
      " Q: quit \n",
      "\n",
      "Select from menu: A\n",
      "Enter number you want to add in array:32\n",
      " P: print array (initially array is empty) \n",
      " A: add number \n",
      " S: sort array \n",
      " R: number at rth position if the array is sorted \n",
      " N: disallow/allow duplicate entries \n",
      " Q: quit \n",
      "\n",
      "Select from menu: A\n",
      "Enter number you want to add in array:11\n",
      " P: print array (initially array is empty) \n",
      " A: add number \n",
      " S: sort array \n",
      " R: number at rth position if the array is sorted \n",
      " N: disallow/allow duplicate entries \n",
      " Q: quit \n",
      "\n",
      "Select from menu: P\n",
      "[11. 99. 32. 11.]\n",
      " P: print array (initially array is empty) \n",
      " A: add number \n",
      " S: sort array \n",
      " R: number at rth position if the array is sorted \n",
      " N: disallow/allow duplicate entries \n",
      " Q: quit \n",
      "\n",
      "Select from menu: R\n",
      "Which position: 2\n",
      "Array not sorted. Sort array.\n",
      " P: print array (initially array is empty) \n",
      " A: add number \n",
      " S: sort array \n",
      " R: number at rth position if the array is sorted \n",
      " N: disallow/allow duplicate entries \n",
      " Q: quit \n",
      "\n",
      "Select from menu: S\n",
      "Choose large to small or small to large: large to small\n",
      "array was sorted! \n",
      "\n",
      " P: print array (initially array is empty) \n",
      " A: add number \n",
      " S: sort array \n",
      " R: number at rth position if the array is sorted \n",
      " N: disallow/allow duplicate entries \n",
      " Q: quit \n",
      "\n",
      "Select from menu: P\n",
      "[99. 32. 11. 11.]\n",
      " P: print array (initially array is empty) \n",
      " A: add number \n",
      " S: sort array \n",
      " R: number at rth position if the array is sorted \n",
      " N: disallow/allow duplicate entries \n",
      " Q: quit \n",
      "\n",
      "Select from menu: R\n",
      "Which position: 2\n",
      "11.0\n",
      " P: print array (initially array is empty) \n",
      " A: add number \n",
      " S: sort array \n",
      " R: number at rth position if the array is sorted \n",
      " N: disallow/allow duplicate entries \n",
      " Q: quit \n",
      "\n",
      "Select from menu: S\n",
      "Choose large to small or small to large: small to large\n",
      "array was sorted! \n",
      "\n",
      " P: print array (initially array is empty) \n",
      " A: add number \n",
      " S: sort array \n",
      " R: number at rth position if the array is sorted \n",
      " N: disallow/allow duplicate entries \n",
      " Q: quit \n",
      "\n",
      "Select from menu: P\n",
      "[11. 11. 32. 99.]\n",
      " P: print array (initially array is empty) \n",
      " A: add number \n",
      " S: sort array \n",
      " R: number at rth position if the array is sorted \n",
      " N: disallow/allow duplicate entries \n",
      " Q: quit \n",
      "\n",
      "Select from menu: R\n",
      "Which position: 2\n",
      "32.0\n",
      " P: print array (initially array is empty) \n",
      " A: add number \n",
      " S: sort array \n",
      " R: number at rth position if the array is sorted \n",
      " N: disallow/allow duplicate entries \n",
      " Q: quit \n",
      "\n",
      "Select from menu: N\n",
      " P: print array (initially array is empty) \n",
      " A: add number \n",
      " S: sort array \n",
      " R: number at rth position if the array is sorted \n",
      " N: disallow/allow duplicate entries \n",
      " Q: quit \n",
      "\n",
      "Select from menu: P\n",
      "[11. 32. 99.]\n",
      " P: print array (initially array is empty) \n",
      " A: add number \n",
      " S: sort array \n",
      " R: number at rth position if the array is sorted \n",
      " N: disallow/allow duplicate entries \n",
      " Q: quit \n",
      "\n",
      "Select from menu: A\n",
      "Enter number you want to add in array:11\n",
      "number already exist!\n",
      " P: print array (initially array is empty) \n",
      " A: add number \n",
      " S: sort array \n",
      " R: number at rth position if the array is sorted \n",
      " N: disallow/allow duplicate entries \n",
      " Q: quit \n",
      "\n",
      "Select from menu: N\n",
      " P: print array (initially array is empty) \n",
      " A: add number \n",
      " S: sort array \n",
      " R: number at rth position if the array is sorted \n",
      " N: disallow/allow duplicate entries \n",
      " Q: quit \n",
      "\n",
      "Select from menu: A\n",
      "Enter number you want to add in array:11\n",
      " P: print array (initially array is empty) \n",
      " A: add number \n",
      " S: sort array \n",
      " R: number at rth position if the array is sorted \n",
      " N: disallow/allow duplicate entries \n",
      " Q: quit \n",
      "\n",
      "Select from menu: P\n",
      "[11. 32. 99. 11.]\n",
      " P: print array (initially array is empty) \n",
      " A: add number \n",
      " S: sort array \n",
      " R: number at rth position if the array is sorted \n",
      " N: disallow/allow duplicate entries \n",
      " Q: quit \n",
      "\n",
      "Select from menu: Q\n",
      "THE END!\n"
     ]
    }
   ],
   "source": [
    "import numpy as np\n",
    "\n",
    "arr = []\n",
    "sor = 0\n",
    "temp=0\n",
    "rep=0\n",
    "int(sor)\n",
    "int(rep)\n",
    "print(\" P: print array (initially array is empty) \\n A: add number \\n S: sort array \\n R: number at rth position if the array is sorted \\n N: disallow/allow duplicate entries \\n Q: quit \\n\" \n",
    ")\n",
    "a= input(\"Select from menu: \")\n",
    "while a != \"Q\":\n",
    "    \n",
    "    if a == \"P\": #print\n",
    "        print(arr)\n",
    "        print(\" P: print array (initially array is empty) \\n A: add number \\n S: sort array \\n R: number at rth position if the array is sorted \\n N: disallow/allow duplicate entries \\n Q: quit \\n\" \n",
    ")\n",
    "    \n",
    "    elif a == \"A\": #add\n",
    "        num_add = int(input(\"Enter number you want to add in array:\"))\n",
    "        if rep % 2 != 0 and num_add in arr:\n",
    "            print(\"number already exist!\")\n",
    "\n",
    "        else: \n",
    "            arr= np.append(arr, num_add)\n",
    "        print(\" P: print array (initially array is empty) \\n A: add number \\n S: sort array \\n R: number at rth position if the array is sorted \\n N: disallow/allow duplicate entries \\n Q: quit \\n\" \n",
    ")\n",
    "\n",
    "    elif a == \"S\": #sort\n",
    "        sor = 1\n",
    "        choice= input(\"Choose large to small or small to large: \")\n",
    "        \n",
    "        if choice == \"large to small\":\n",
    "            for i in range(0, len(arr)):    \n",
    "                for j in range(i+1, len(arr)):    \n",
    "                    if(arr[i] < arr[j]):    \n",
    "                        temp = arr[i];    \n",
    "                        arr[i] = arr[j];    \n",
    "                        arr[j] = temp;  \n",
    "\n",
    "        elif choice == \"small to large\":\n",
    "            arr.sort()\n",
    "        \n",
    "        print(\"array was sorted! \\n\")\n",
    "        print(\" P: print array (initially array is empty) \\n A: add number \\n S: sort array \\n R: number at rth position if the array is sorted \\n N: disallow/allow duplicate entries \\n Q: quit \\n\" \n",
    ")\n",
    "            \n",
    "        \n",
    "    elif a == \"R\": #number at rth entry\n",
    "            pos =int(input(\"Which position: \"))\n",
    "            \n",
    "            if sor != 0:\n",
    "                print(arr[pos])\n",
    "                \n",
    "            else:\n",
    "                print(\"Array not sorted. Sort array.\")\n",
    "            print(\" P: print array (initially array is empty) \\n A: add number \\n S: sort array \\n R: number at rth position if the array is sorted \\n N: disallow/allow duplicate entries \\n Q: quit \\n\" \n",
    ")\n",
    "    elif a == \"N\":\n",
    "        rep +=1\n",
    "        if rep%2 != 0:\n",
    "            arr = np.unique(arr)\n",
    "        print(\" P: print array (initially array is empty) \\n A: add number \\n S: sort array \\n R: number at rth position if the array is sorted \\n N: disallow/allow duplicate entries \\n Q: quit \\n\" \n",
    ")\n",
    "        \n",
    "    a = input(\"Select from menu: \")\n",
    "\n",
    "if a == \"Q\":\n",
    "    print(\"THE END!\")\n",
    "        "
   ]
  },
  {
   "cell_type": "markdown",
   "id": "0aad97b8",
   "metadata": {},
   "source": [
    "  "
   ]
  },
  {
   "cell_type": "markdown",
   "id": "61fad535",
   "metadata": {},
   "source": [
    " "
   ]
  },
  {
   "cell_type": "markdown",
   "id": "c06ce1b6",
   "metadata": {},
   "source": [
    "## Q2."
   ]
  },
  {
   "cell_type": "markdown",
   "id": "3c26addd",
   "metadata": {},
   "source": [
    " "
   ]
  },
  {
   "cell_type": "code",
   "execution_count": 15,
   "id": "65d17b25",
   "metadata": {},
   "outputs": [],
   "source": [
    "import numpy as np\n",
    "import pandas as pd\n",
    "import matplotlib.pyplot as plt"
   ]
  },
  {
   "cell_type": "code",
   "execution_count": 16,
   "id": "e500f440",
   "metadata": {},
   "outputs": [
    {
     "data": {
      "text/html": [
       "<div>\n",
       "<style scoped>\n",
       "    .dataframe tbody tr th:only-of-type {\n",
       "        vertical-align: middle;\n",
       "    }\n",
       "\n",
       "    .dataframe tbody tr th {\n",
       "        vertical-align: top;\n",
       "    }\n",
       "\n",
       "    .dataframe thead th {\n",
       "        text-align: right;\n",
       "    }\n",
       "</style>\n",
       "<table border=\"1\" class=\"dataframe\">\n",
       "  <thead>\n",
       "    <tr style=\"text-align: right;\">\n",
       "      <th></th>\n",
       "      <th>customerID</th>\n",
       "      <th>gender</th>\n",
       "      <th>SeniorCitizen</th>\n",
       "      <th>Partner</th>\n",
       "      <th>Dependents</th>\n",
       "      <th>tenure</th>\n",
       "      <th>PhoneService</th>\n",
       "      <th>MultipleLines</th>\n",
       "      <th>InternetService</th>\n",
       "      <th>OnlineSecurity</th>\n",
       "      <th>...</th>\n",
       "      <th>DeviceProtection</th>\n",
       "      <th>TechSupport</th>\n",
       "      <th>StreamingTV</th>\n",
       "      <th>StreamingMovies</th>\n",
       "      <th>Contract</th>\n",
       "      <th>PaperlessBilling</th>\n",
       "      <th>PaymentMethod</th>\n",
       "      <th>MonthlyCharges</th>\n",
       "      <th>TotalCharges</th>\n",
       "      <th>Churn</th>\n",
       "    </tr>\n",
       "  </thead>\n",
       "  <tbody>\n",
       "    <tr>\n",
       "      <th>0</th>\n",
       "      <td>7590-VHVEG</td>\n",
       "      <td>Female</td>\n",
       "      <td>0</td>\n",
       "      <td>Yes</td>\n",
       "      <td>No</td>\n",
       "      <td>1</td>\n",
       "      <td>No</td>\n",
       "      <td>No phone service</td>\n",
       "      <td>DSL</td>\n",
       "      <td>No</td>\n",
       "      <td>...</td>\n",
       "      <td>No</td>\n",
       "      <td>No</td>\n",
       "      <td>No</td>\n",
       "      <td>No</td>\n",
       "      <td>Month-to-month</td>\n",
       "      <td>Yes</td>\n",
       "      <td>Electronic check</td>\n",
       "      <td>29.85</td>\n",
       "      <td>29.85</td>\n",
       "      <td>No</td>\n",
       "    </tr>\n",
       "    <tr>\n",
       "      <th>1</th>\n",
       "      <td>5575-GNVDE</td>\n",
       "      <td>Male</td>\n",
       "      <td>0</td>\n",
       "      <td>No</td>\n",
       "      <td>No</td>\n",
       "      <td>34</td>\n",
       "      <td>Yes</td>\n",
       "      <td>No</td>\n",
       "      <td>DSL</td>\n",
       "      <td>Yes</td>\n",
       "      <td>...</td>\n",
       "      <td>Yes</td>\n",
       "      <td>No</td>\n",
       "      <td>No</td>\n",
       "      <td>No</td>\n",
       "      <td>One year</td>\n",
       "      <td>No</td>\n",
       "      <td>Mailed check</td>\n",
       "      <td>56.95</td>\n",
       "      <td>1889.5</td>\n",
       "      <td>No</td>\n",
       "    </tr>\n",
       "    <tr>\n",
       "      <th>2</th>\n",
       "      <td>3668-QPYBK</td>\n",
       "      <td>Male</td>\n",
       "      <td>0</td>\n",
       "      <td>No</td>\n",
       "      <td>No</td>\n",
       "      <td>2</td>\n",
       "      <td>Yes</td>\n",
       "      <td>No</td>\n",
       "      <td>DSL</td>\n",
       "      <td>Yes</td>\n",
       "      <td>...</td>\n",
       "      <td>No</td>\n",
       "      <td>No</td>\n",
       "      <td>No</td>\n",
       "      <td>No</td>\n",
       "      <td>Month-to-month</td>\n",
       "      <td>Yes</td>\n",
       "      <td>Mailed check</td>\n",
       "      <td>53.85</td>\n",
       "      <td>108.15</td>\n",
       "      <td>Yes</td>\n",
       "    </tr>\n",
       "    <tr>\n",
       "      <th>3</th>\n",
       "      <td>7795-CFOCW</td>\n",
       "      <td>Male</td>\n",
       "      <td>0</td>\n",
       "      <td>No</td>\n",
       "      <td>No</td>\n",
       "      <td>45</td>\n",
       "      <td>No</td>\n",
       "      <td>No phone service</td>\n",
       "      <td>DSL</td>\n",
       "      <td>Yes</td>\n",
       "      <td>...</td>\n",
       "      <td>Yes</td>\n",
       "      <td>Yes</td>\n",
       "      <td>No</td>\n",
       "      <td>No</td>\n",
       "      <td>One year</td>\n",
       "      <td>No</td>\n",
       "      <td>Bank transfer (automatic)</td>\n",
       "      <td>42.30</td>\n",
       "      <td>1840.75</td>\n",
       "      <td>No</td>\n",
       "    </tr>\n",
       "    <tr>\n",
       "      <th>4</th>\n",
       "      <td>9237-HQITU</td>\n",
       "      <td>Female</td>\n",
       "      <td>0</td>\n",
       "      <td>No</td>\n",
       "      <td>No</td>\n",
       "      <td>2</td>\n",
       "      <td>Yes</td>\n",
       "      <td>No</td>\n",
       "      <td>Fiber optic</td>\n",
       "      <td>No</td>\n",
       "      <td>...</td>\n",
       "      <td>No</td>\n",
       "      <td>No</td>\n",
       "      <td>No</td>\n",
       "      <td>No</td>\n",
       "      <td>Month-to-month</td>\n",
       "      <td>Yes</td>\n",
       "      <td>Electronic check</td>\n",
       "      <td>70.70</td>\n",
       "      <td>151.65</td>\n",
       "      <td>Yes</td>\n",
       "    </tr>\n",
       "  </tbody>\n",
       "</table>\n",
       "<p>5 rows × 21 columns</p>\n",
       "</div>"
      ],
      "text/plain": [
       "   customerID  gender  SeniorCitizen Partner Dependents  tenure PhoneService  \\\n",
       "0  7590-VHVEG  Female              0     Yes         No       1           No   \n",
       "1  5575-GNVDE    Male              0      No         No      34          Yes   \n",
       "2  3668-QPYBK    Male              0      No         No       2          Yes   \n",
       "3  7795-CFOCW    Male              0      No         No      45           No   \n",
       "4  9237-HQITU  Female              0      No         No       2          Yes   \n",
       "\n",
       "      MultipleLines InternetService OnlineSecurity  ... DeviceProtection  \\\n",
       "0  No phone service             DSL             No  ...               No   \n",
       "1                No             DSL            Yes  ...              Yes   \n",
       "2                No             DSL            Yes  ...               No   \n",
       "3  No phone service             DSL            Yes  ...              Yes   \n",
       "4                No     Fiber optic             No  ...               No   \n",
       "\n",
       "  TechSupport StreamingTV StreamingMovies        Contract PaperlessBilling  \\\n",
       "0          No          No              No  Month-to-month              Yes   \n",
       "1          No          No              No        One year               No   \n",
       "2          No          No              No  Month-to-month              Yes   \n",
       "3         Yes          No              No        One year               No   \n",
       "4          No          No              No  Month-to-month              Yes   \n",
       "\n",
       "               PaymentMethod MonthlyCharges  TotalCharges Churn  \n",
       "0           Electronic check          29.85         29.85    No  \n",
       "1               Mailed check          56.95        1889.5    No  \n",
       "2               Mailed check          53.85        108.15   Yes  \n",
       "3  Bank transfer (automatic)          42.30       1840.75    No  \n",
       "4           Electronic check          70.70        151.65   Yes  \n",
       "\n",
       "[5 rows x 21 columns]"
      ]
     },
     "execution_count": 16,
     "metadata": {},
     "output_type": "execute_result"
    }
   ],
   "source": [
    "data = pd.read_csv('https://raw.githubusercontent.com/sanikag20/BCS-Comp-Neuro/main/Q2%20Dataset.csv')\n",
    "df = pd.DataFrame(data)\n",
    "df.head()"
   ]
  },
  {
   "cell_type": "code",
   "execution_count": 17,
   "id": "84b02255",
   "metadata": {},
   "outputs": [
    {
     "data": {
      "text/plain": [
       "array([7043], dtype=int64)"
      ]
     },
     "execution_count": 17,
     "metadata": {},
     "output_type": "execute_result"
    }
   ],
   "source": [
    "df.count().unique()"
   ]
  },
  {
   "cell_type": "code",
   "execution_count": 18,
   "id": "3d67421c",
   "metadata": {},
   "outputs": [
    {
     "data": {
      "text/plain": [
       "array([1869], dtype=int64)"
      ]
     },
     "execution_count": 18,
     "metadata": {},
     "output_type": "execute_result"
    }
   ],
   "source": [
    "df[(df[\"Churn\"] == \"Yes\")].count().unique()"
   ]
  },
  {
   "cell_type": "code",
   "execution_count": 19,
   "id": "eb2113b8",
   "metadata": {},
   "outputs": [
    {
     "name": "stdout",
     "output_type": "stream",
     "text": [
      "                                                      Tenure and Monthly Charges\n"
     ]
    },
    {
     "data": {
      "image/png": "[encoded data removed]",
      "text/plain": [
       "<Figure size 1800x1080 with 4 Axes>"
      ]
     },
     "metadata": {
      "needs_background": "light"
     },
     "output_type": "display_data"
    }
   ],
   "source": [
    "print(\"                                                      Tenure and Monthly Charges\")\n",
    "plt.figure(figsize=(25, 15))\n",
    "\n",
    "X = list(df.iloc[0:10, 0])\n",
    "X_axis = np.arange(len(X))\n",
    "\n",
    "plt.subplot(2,2,1)\n",
    "\n",
    "Y1 = list(df.iloc[0:10, 5])\n",
    "Y2 = list(df.iloc[0:10, 18])\n",
    "plt.bar(X_axis - 0.2 , Y1, color='g',width = 0.4, label= \"Tenure\")\n",
    "plt.bar(X_axis + 0.2 , Y2, color=\"y\",width = 0.4, label = \"Monthly Charges\")\n",
    "plt.xlabel(\"CustomerID 0 to 9\")\n",
    "plt.ylabel(\"Tenure and Monthy Charges\")\n",
    "plt.legend()\n",
    "\n",
    "plt.subplot(2,2,2)\n",
    "\n",
    "Y3 = list(df.iloc[10:20, 5])\n",
    "Y4 = list(df.iloc[10:20, 18])\n",
    "plt.bar(X_axis - 0.2 , Y3, color='g',width = 0.4)\n",
    "plt.bar(X_axis + 0.2 , Y4, color=\"y\",width = 0.4)\n",
    "plt.xlabel(\"CustomerID 10 to 19\")\n",
    "\n",
    "plt.subplot(2,2,3)\n",
    "\n",
    "Y5 = list(df.iloc[20:30, 5])\n",
    "Y6 = list(df.iloc[20:30, 18])\n",
    "plt.bar(X_axis - 0.2 , Y5, color='g',width = 0.4)\n",
    "plt.bar(X_axis + 0.2 , Y6, color=\"y\",width = 0.4)\n",
    "plt.xlabel(\"CustomerID 20 to 29\")\n",
    "\n",
    "plt.subplot(2,2,4)\n",
    "\n",
    "Y7 = list(df.iloc[30:40, 5])\n",
    "Y8 = list(df.iloc[30:40, 18])\n",
    "plt.bar(X_axis - 0.2 , Y7, color='g',width = 0.4)\n",
    "plt.bar(X_axis + 0.2 , Y8, color=\"y\",width = 0.4)\n",
    "plt.xlabel(\"CustomerID 30 to 39\")\n",
    "\n",
    "\n",
    "\n",
    "plt.show()"
   ]
  },
  {
   "cell_type": "markdown",
   "id": "403b3b51",
   "metadata": {},
   "source": [
    " "
   ]
  },
  {
   "cell_type": "markdown",
   "id": "d8ad5265",
   "metadata": {},
   "source": [
    "# <u>Device Protection:"
   ]
  },
  {
   "cell_type": "markdown",
   "id": "92394534",
   "metadata": {},
   "source": [
    " "
   ]
  },
  {
   "cell_type": "code",
   "execution_count": 20,
   "id": "6c44d1e9",
   "metadata": {},
   "outputs": [
    {
     "data": {
      "text/plain": [
       "array([1211], dtype=int64)"
      ]
     },
     "execution_count": 20,
     "metadata": {},
     "output_type": "execute_result"
    }
   ],
   "source": [
    "df[(df[\"Churn\"] == \"Yes\") & (df[\"DeviceProtection\"] == \"No\")].count().unique()"
   ]
  },
  {
   "cell_type": "code",
   "execution_count": 21,
   "id": "69829fc3",
   "metadata": {},
   "outputs": [
    {
     "data": {
      "text/plain": [
       "array([545], dtype=int64)"
      ]
     },
     "execution_count": 21,
     "metadata": {},
     "output_type": "execute_result"
    }
   ],
   "source": [
    "df[(df[\"Churn\"] == \"Yes\") & (df[\"DeviceProtection\"] == \"Yes\")].count().unique()"
   ]
  },
  {
   "cell_type": "markdown",
   "id": "5e966489",
   "metadata": {},
   "source": [
    "#### People who churned and had no device protection : 1211\n",
    "#### Total people who churned : 1869\n",
    "#### About 64.79% people left their telecom services because they were not provided device protection"
   ]
  },
  {
   "cell_type": "markdown",
   "id": "1a1d2708",
   "metadata": {},
   "source": [
    " "
   ]
  },
  {
   "cell_type": "markdown",
   "id": "f60864a6",
   "metadata": {},
   "source": [
    "# <u>Paperless billing:"
   ]
  },
  {
   "cell_type": "markdown",
   "id": "a91bbe67",
   "metadata": {},
   "source": [
    " "
   ]
  },
  {
   "cell_type": "code",
   "execution_count": 59,
   "id": "658b8435",
   "metadata": {},
   "outputs": [
    {
     "data": {
      "text/plain": [
       "array([469], dtype=int64)"
      ]
     },
     "execution_count": 59,
     "metadata": {},
     "output_type": "execute_result"
    }
   ],
   "source": [
    "df[(df[\"Churn\"] == \"Yes\") & (df[\"PaperlessBilling\"] == \"No\")].count().unique()"
   ]
  },
  {
   "cell_type": "code",
   "execution_count": 60,
   "id": "e04d232b",
   "metadata": {},
   "outputs": [
    {
     "data": {
      "text/plain": [
       "array([1400], dtype=int64)"
      ]
     },
     "execution_count": 60,
     "metadata": {},
     "output_type": "execute_result"
    }
   ],
   "source": [
    "df[(df[\"Churn\"] == \"Yes\") & (df[\"PaperlessBilling\"] == \"Yes\")].count().unique()"
   ]
  },
  {
   "cell_type": "markdown",
   "id": "c3e24d41",
   "metadata": {},
   "source": [
    "#### Customers Preferred paper billing over paperlessbilling. Percentage of customers that churned with paperless billing : 74.91%"
   ]
  },
  {
   "cell_type": "markdown",
   "id": "d8aea613",
   "metadata": {},
   "source": [
    " "
   ]
  },
  {
   "cell_type": "markdown",
   "id": "09ad0857",
   "metadata": {},
   "source": [
    "# <U>Internet Service:"
   ]
  },
  {
   "cell_type": "markdown",
   "id": "81c695ca",
   "metadata": {},
   "source": [
    " "
   ]
  },
  {
   "cell_type": "code",
   "execution_count": 22,
   "id": "f6dd8849",
   "metadata": {},
   "outputs": [
    {
     "data": {
      "text/plain": [
       "array(['DSL', 'Fiber optic', 'No'], dtype=object)"
      ]
     },
     "execution_count": 22,
     "metadata": {},
     "output_type": "execute_result"
    }
   ],
   "source": [
    "df[\"InternetService\"].unique()"
   ]
  },
  {
   "cell_type": "code",
   "execution_count": 23,
   "id": "f874cdde",
   "metadata": {},
   "outputs": [
    {
     "data": {
      "text/plain": [
       "array([113], dtype=int64)"
      ]
     },
     "execution_count": 23,
     "metadata": {},
     "output_type": "execute_result"
    }
   ],
   "source": [
    "df[(df[\"Churn\"] == \"Yes\") & (df[\"InternetService\"] == \"No\")].count().unique()"
   ]
  },
  {
   "cell_type": "code",
   "execution_count": 24,
   "id": "76181f07",
   "metadata": {},
   "outputs": [
    {
     "data": {
      "text/plain": [
       "array([1297], dtype=int64)"
      ]
     },
     "execution_count": 24,
     "metadata": {},
     "output_type": "execute_result"
    }
   ],
   "source": [
    "df[(df[\"Churn\"] == \"Yes\") & (df[\"InternetService\"] == \"Fiber optic\")].count().unique()"
   ]
  },
  {
   "cell_type": "code",
   "execution_count": 25,
   "id": "1cfc6dd5",
   "metadata": {},
   "outputs": [
    {
     "data": {
      "text/plain": [
       "array([459], dtype=int64)"
      ]
     },
     "execution_count": 25,
     "metadata": {},
     "output_type": "execute_result"
    }
   ],
   "source": [
    "df[(df[\"Churn\"] == \"Yes\") & (df[\"InternetService\"] == \"DSL\")].count().unique()"
   ]
  },
  {
   "cell_type": "markdown",
   "id": "464100c8",
   "metadata": {},
   "source": [
    "#### People who churned and had Fiber optic internet service : 69.40%\n",
    "#### Therefore, most of the fiber optic using customers didn't like the service."
   ]
  },
  {
   "cell_type": "markdown",
   "id": "f598cf57",
   "metadata": {},
   "source": [
    " "
   ]
  },
  {
   "cell_type": "markdown",
   "id": "0552248d",
   "metadata": {},
   "source": [
    "# <u>Payment Method:"
   ]
  },
  {
   "cell_type": "markdown",
   "id": "7c6acdad",
   "metadata": {},
   "source": [
    " "
   ]
  },
  {
   "cell_type": "code",
   "execution_count": 26,
   "id": "b3336368",
   "metadata": {},
   "outputs": [
    {
     "data": {
      "text/plain": [
       "array(['Electronic check', 'Mailed check', 'Bank transfer (automatic)',\n",
       "       'Credit card (automatic)'], dtype=object)"
      ]
     },
     "execution_count": 26,
     "metadata": {},
     "output_type": "execute_result"
    }
   ],
   "source": [
    "df[\"PaymentMethod\"].unique()"
   ]
  },
  {
   "cell_type": "code",
   "execution_count": 27,
   "id": "7bf40b13",
   "metadata": {},
   "outputs": [
    {
     "data": {
      "text/plain": [
       "array([1071], dtype=int64)"
      ]
     },
     "execution_count": 27,
     "metadata": {},
     "output_type": "execute_result"
    }
   ],
   "source": [
    "df[(df[\"Churn\"] == \"Yes\") & (df[\"PaymentMethod\"] == \"Electronic check\")].count().unique()"
   ]
  },
  {
   "cell_type": "code",
   "execution_count": 28,
   "id": "c36fcaf4",
   "metadata": {},
   "outputs": [
    {
     "data": {
      "text/plain": [
       "array([317], dtype=int64)"
      ]
     },
     "execution_count": 28,
     "metadata": {},
     "output_type": "execute_result"
    }
   ],
   "source": [
    "df[(df[\"Churn\"] == \"Yes\") & (df[\"PaymentMethod\"] == \"Electronic check\") & (df[\"SeniorCitizen\"] == 1)].count().unique()"
   ]
  },
  {
   "cell_type": "code",
   "execution_count": 29,
   "id": "25557df9",
   "metadata": {},
   "outputs": [
    {
     "data": {
      "text/plain": [
       "array([308], dtype=int64)"
      ]
     },
     "execution_count": 29,
     "metadata": {},
     "output_type": "execute_result"
    }
   ],
   "source": [
    "df[(df[\"Churn\"] == \"Yes\") & (df[\"PaymentMethod\"] == \"Mailed check\")].count().unique()"
   ]
  },
  {
   "cell_type": "code",
   "execution_count": 30,
   "id": "58bf75ba",
   "metadata": {},
   "outputs": [
    {
     "data": {
      "text/plain": [
       "array([258], dtype=int64)"
      ]
     },
     "execution_count": 30,
     "metadata": {},
     "output_type": "execute_result"
    }
   ],
   "source": [
    "df[(df[\"Churn\"] == \"Yes\") & (df[\"PaymentMethod\"] == \"Bank transfer (automatic)\")].count().unique()"
   ]
  },
  {
   "cell_type": "code",
   "execution_count": 31,
   "id": "91348174",
   "metadata": {},
   "outputs": [
    {
     "data": {
      "text/plain": [
       "array([232], dtype=int64)"
      ]
     },
     "execution_count": 31,
     "metadata": {},
     "output_type": "execute_result"
    }
   ],
   "source": [
    "df[(df[\"Churn\"] == \"Yes\") & (df[\"PaymentMethod\"] == \"Credit card (automatic)\")].count().unique()"
   ]
  },
  {
   "cell_type": "markdown",
   "id": "6a084e74",
   "metadata": {},
   "source": [
    "#### People who had to pay via electronic check churned more than the customers that used other methods, percentage : 57.30%"
   ]
  },
  {
   "cell_type": "markdown",
   "id": "fe9530dd",
   "metadata": {},
   "source": [
    " "
   ]
  },
  {
   "cell_type": "markdown",
   "id": "566f987d",
   "metadata": {},
   "source": [
    "# <u>Online Security:"
   ]
  },
  {
   "cell_type": "markdown",
   "id": "4039143f",
   "metadata": {},
   "source": [
    " "
   ]
  },
  {
   "cell_type": "code",
   "execution_count": 32,
   "id": "1d637c28",
   "metadata": {},
   "outputs": [
    {
     "data": {
      "text/plain": [
       "array([1461], dtype=int64)"
      ]
     },
     "execution_count": 32,
     "metadata": {},
     "output_type": "execute_result"
    }
   ],
   "source": [
    "df[(df[\"Churn\"] == \"Yes\") & (df[\"OnlineSecurity\"] == \"No\")].count().unique()"
   ]
  },
  {
   "cell_type": "code",
   "execution_count": 33,
   "id": "57ef96d6",
   "metadata": {},
   "outputs": [
    {
     "data": {
      "text/plain": [
       "array([295], dtype=int64)"
      ]
     },
     "execution_count": 33,
     "metadata": {},
     "output_type": "execute_result"
    }
   ],
   "source": [
    "df[(df[\"Churn\"] == \"Yes\") & (df[\"OnlineSecurity\"] == \"Yes\")].count().unique()"
   ]
  },
  {
   "cell_type": "markdown",
   "id": "507765d0",
   "metadata": {},
   "source": [
    "#### <i>Customers who had no online security left the service alot. Percentage: 78.17%"
   ]
  },
  {
   "cell_type": "markdown",
   "id": "fdcc8a5f",
   "metadata": {},
   "source": [
    " "
   ]
  },
  {
   "cell_type": "markdown",
   "id": "911fc1c5",
   "metadata": {},
   "source": [
    "# <U>Contract:"
   ]
  },
  {
   "cell_type": "markdown",
   "id": "28add84a",
   "metadata": {},
   "source": [
    "  "
   ]
  },
  {
   "cell_type": "code",
   "execution_count": 34,
   "id": "b16cc168",
   "metadata": {},
   "outputs": [
    {
     "data": {
      "text/plain": [
       "array([1869], dtype=int64)"
      ]
     },
     "execution_count": 34,
     "metadata": {},
     "output_type": "execute_result"
    }
   ],
   "source": [
    "df[df[\"Churn\"] == \"Yes\"].count().unique()"
   ]
  },
  {
   "cell_type": "code",
   "execution_count": 35,
   "id": "97431fd4",
   "metadata": {},
   "outputs": [
    {
     "data": {
      "text/plain": [
       "array(['Month-to-month', 'One year', 'Two year'], dtype=object)"
      ]
     },
     "execution_count": 35,
     "metadata": {},
     "output_type": "execute_result"
    }
   ],
   "source": [
    "df[\"Contract\"].unique()"
   ]
  },
  {
   "cell_type": "code",
   "execution_count": 36,
   "id": "672c5a26",
   "metadata": {},
   "outputs": [
    {
     "data": {
      "text/plain": [
       "array([1655], dtype=int64)"
      ]
     },
     "execution_count": 36,
     "metadata": {},
     "output_type": "execute_result"
    }
   ],
   "source": [
    "df[(df[\"Churn\"] == \"Yes\") & (df[\"Contract\"] == \"Month-to-month\")].count().unique()"
   ]
  },
  {
   "cell_type": "code",
   "execution_count": 37,
   "id": "f61d0050",
   "metadata": {},
   "outputs": [
    {
     "data": {
      "text/plain": [
       "array([166], dtype=int64)"
      ]
     },
     "execution_count": 37,
     "metadata": {},
     "output_type": "execute_result"
    }
   ],
   "source": [
    "df[(df[\"Churn\"] == \"Yes\") & (df[\"Contract\"] == \"One year\")].count().unique()"
   ]
  },
  {
   "cell_type": "code",
   "execution_count": 38,
   "id": "3208bf6e",
   "metadata": {},
   "outputs": [
    {
     "data": {
      "text/plain": [
       "array([48], dtype=int64)"
      ]
     },
     "execution_count": 38,
     "metadata": {},
     "output_type": "execute_result"
    }
   ],
   "source": [
    "df[(df[\"Churn\"] == \"Yes\") & (df[\"Contract\"] == \"Two year\")].count().unique()"
   ]
  },
  {
   "cell_type": "markdown",
   "id": "3ae92c04",
   "metadata": {},
   "source": [
    "## <i>About 88.55% of the customers who churned had their contract made for a month to month basis."
   ]
  },
  {
   "cell_type": "markdown",
   "id": "718095be",
   "metadata": {},
   "source": [
    " "
   ]
  },
  {
   "cell_type": "markdown",
   "id": "141d79eb",
   "metadata": {},
   "source": [
    "# <u>Partner:"
   ]
  },
  {
   "cell_type": "markdown",
   "id": "2f240cbe",
   "metadata": {},
   "source": [
    " "
   ]
  },
  {
   "cell_type": "code",
   "execution_count": 78,
   "id": "14a1622d",
   "metadata": {},
   "outputs": [
    {
     "data": {
      "text/plain": [
       "Index(['customerID', 'gender', 'SeniorCitizen', 'Partner', 'Dependents',\n",
       "       'tenure', 'PhoneService', 'MultipleLines', 'InternetService',\n",
       "       'OnlineSecurity', 'OnlineBackup', 'DeviceProtection', 'TechSupport',\n",
       "       'StreamingTV', 'StreamingMovies', 'Contract', 'PaperlessBilling',\n",
       "       'PaymentMethod', 'MonthlyCharges', 'TotalCharges', 'Churn'],\n",
       "      dtype='object')"
      ]
     },
     "execution_count": 78,
     "metadata": {},
     "output_type": "execute_result"
    }
   ],
   "source": [
    "df.columns"
   ]
  },
  {
   "cell_type": "code",
   "execution_count": 79,
   "id": "c44704c9",
   "metadata": {},
   "outputs": [
    {
     "data": {
      "text/plain": [
       "array(['Yes', 'No'], dtype=object)"
      ]
     },
     "execution_count": 79,
     "metadata": {},
     "output_type": "execute_result"
    }
   ],
   "source": [
    "df[\"Partner\"].unique()"
   ]
  },
  {
   "cell_type": "code",
   "execution_count": 80,
   "id": "94d9cb17",
   "metadata": {},
   "outputs": [
    {
     "data": {
      "text/plain": [
       "array([669], dtype=int64)"
      ]
     },
     "execution_count": 80,
     "metadata": {},
     "output_type": "execute_result"
    }
   ],
   "source": [
    "df[(df[\"Churn\"] == \"Yes\") & (df[\"Partner\"] == \"Yes\")].count().unique()"
   ]
  },
  {
   "cell_type": "code",
   "execution_count": 81,
   "id": "e3e7c39f",
   "metadata": {},
   "outputs": [
    {
     "data": {
      "text/plain": [
       "array([1200], dtype=int64)"
      ]
     },
     "execution_count": 81,
     "metadata": {},
     "output_type": "execute_result"
    }
   ],
   "source": [
    "df[(df[\"Churn\"] == \"Yes\") & (df[\"Partner\"] == \"No\")].count().unique()"
   ]
  },
  {
   "cell_type": "markdown",
   "id": "2b00717e",
   "metadata": {},
   "source": [
    "#### <i>Customers who didn't had any life partner changed their connection more than the other. Percentage: 64.20%"
   ]
  },
  {
   "cell_type": "markdown",
   "id": "ece2857d",
   "metadata": {},
   "source": [
    " "
   ]
  },
  {
   "cell_type": "markdown",
   "id": "b356b21a",
   "metadata": {},
   "source": [
    "# <u>TechSupport:"
   ]
  },
  {
   "cell_type": "markdown",
   "id": "be046609",
   "metadata": {},
   "source": [
    " "
   ]
  },
  {
   "cell_type": "code",
   "execution_count": 39,
   "id": "dcf3a00c",
   "metadata": {},
   "outputs": [
    {
     "data": {
      "text/plain": [
       "array(['No', 'Yes', 'No internet service'], dtype=object)"
      ]
     },
     "execution_count": 39,
     "metadata": {},
     "output_type": "execute_result"
    }
   ],
   "source": [
    "df[\"TechSupport\"].unique()"
   ]
  },
  {
   "cell_type": "code",
   "execution_count": 40,
   "id": "66246f15",
   "metadata": {},
   "outputs": [
    {
     "data": {
      "text/plain": [
       "array([1446], dtype=int64)"
      ]
     },
     "execution_count": 40,
     "metadata": {},
     "output_type": "execute_result"
    }
   ],
   "source": [
    "df[(df[\"Churn\"] == \"Yes\") & (df[\"TechSupport\"] == \"No\")].count().unique()"
   ]
  },
  {
   "cell_type": "code",
   "execution_count": 41,
   "id": "42c40dac",
   "metadata": {},
   "outputs": [
    {
     "data": {
      "text/plain": [
       "array([310], dtype=int64)"
      ]
     },
     "execution_count": 41,
     "metadata": {},
     "output_type": "execute_result"
    }
   ],
   "source": [
    "df[(df[\"Churn\"] == \"Yes\") & (df[\"TechSupport\"] == \"Yes\")].count().unique()"
   ]
  },
  {
   "cell_type": "code",
   "execution_count": 42,
   "id": "aeb61d12",
   "metadata": {},
   "outputs": [
    {
     "data": {
      "text/plain": [
       "array([113], dtype=int64)"
      ]
     },
     "execution_count": 42,
     "metadata": {},
     "output_type": "execute_result"
    }
   ],
   "source": [
    "df[(df[\"Churn\"] == \"Yes\") & (df[\"TechSupport\"] == \"No internet service\")].count().unique()"
   ]
  },
  {
   "cell_type": "markdown",
   "id": "267f1672",
   "metadata": {},
   "source": [
    "#### <i>About 77.37% customers who churned didn't get any techsupport."
   ]
  },
  {
   "cell_type": "markdown",
   "id": "ebc4c5d1",
   "metadata": {},
   "source": [
    " "
   ]
  },
  {
   "cell_type": "markdown",
   "id": "226e5800",
   "metadata": {},
   "source": [
    "# <U>Online Backup:"
   ]
  },
  {
   "cell_type": "markdown",
   "id": "602292a1",
   "metadata": {},
   "source": [
    " "
   ]
  },
  {
   "cell_type": "code",
   "execution_count": 43,
   "id": "8168af36",
   "metadata": {},
   "outputs": [
    {
     "data": {
      "text/plain": [
       "array(['Yes', 'No', 'No internet service'], dtype=object)"
      ]
     },
     "execution_count": 43,
     "metadata": {},
     "output_type": "execute_result"
    }
   ],
   "source": [
    "df[\"OnlineBackup\"].unique()"
   ]
  },
  {
   "cell_type": "code",
   "execution_count": 44,
   "id": "03f4e10a",
   "metadata": {},
   "outputs": [
    {
     "data": {
      "text/plain": [
       "array([1233], dtype=int64)"
      ]
     },
     "execution_count": 44,
     "metadata": {},
     "output_type": "execute_result"
    }
   ],
   "source": [
    "df[(df[\"Churn\"] == \"Yes\") & (df[\"OnlineBackup\"] == \"No\")].count().unique()"
   ]
  },
  {
   "cell_type": "code",
   "execution_count": 45,
   "id": "d6a23dd3",
   "metadata": {},
   "outputs": [
    {
     "data": {
      "text/plain": [
       "array([523], dtype=int64)"
      ]
     },
     "execution_count": 45,
     "metadata": {},
     "output_type": "execute_result"
    }
   ],
   "source": [
    "df[(df[\"Churn\"] == \"Yes\") & (df[\"OnlineBackup\"] == \"Yes\")].count().unique()"
   ]
  },
  {
   "cell_type": "code",
   "execution_count": 46,
   "id": "cc483652",
   "metadata": {},
   "outputs": [
    {
     "data": {
      "text/plain": [
       "array([113], dtype=int64)"
      ]
     },
     "execution_count": 46,
     "metadata": {},
     "output_type": "execute_result"
    }
   ],
   "source": [
    "df[(df[\"Churn\"] == \"Yes\") & (df[\"OnlineBackup\"] == \"No internet service\")].count().unique()"
   ]
  },
  {
   "cell_type": "markdown",
   "id": "af68f414",
   "metadata": {},
   "source": [
    "#### <i> About 65.97% of the customers who churned didn't had online backup."
   ]
  },
  {
   "cell_type": "markdown",
   "id": "9c12725c",
   "metadata": {},
   "source": [
    " "
   ]
  },
  {
   "cell_type": "markdown",
   "id": "75034df0",
   "metadata": {},
   "source": [
    "# <u>SeniorCitizen:"
   ]
  },
  {
   "cell_type": "markdown",
   "id": "c95f7390",
   "metadata": {},
   "source": [
    "  "
   ]
  },
  {
   "cell_type": "code",
   "execution_count": 48,
   "id": "1807003f",
   "metadata": {},
   "outputs": [
    {
     "data": {
      "text/plain": [
       "array([476], dtype=int64)"
      ]
     },
     "execution_count": 48,
     "metadata": {},
     "output_type": "execute_result"
    }
   ],
   "source": [
    "df[(df[\"Churn\"] == \"Yes\") & (df[\"SeniorCitizen\"] == 1)].count().unique()"
   ]
  },
  {
   "cell_type": "code",
   "execution_count": 49,
   "id": "aa9498c7",
   "metadata": {},
   "outputs": [
    {
     "data": {
      "text/plain": [
       "array([1393], dtype=int64)"
      ]
     },
     "execution_count": 49,
     "metadata": {},
     "output_type": "execute_result"
    }
   ],
   "source": [
    "df[(df[\"Churn\"] == \"Yes\") & (df[\"SeniorCitizen\"] == 0)].count().unique()"
   ]
  },
  {
   "cell_type": "markdown",
   "id": "39dec5e8",
   "metadata": {},
   "source": [
    "#### <i>About 74.53% of the customers who churned were youngsters."
   ]
  },
  {
   "cell_type": "markdown",
   "id": "2acb831c",
   "metadata": {},
   "source": [
    " "
   ]
  },
  {
   "cell_type": "code",
   "execution_count": 51,
   "id": "e8d730fa",
   "metadata": {},
   "outputs": [
    {
     "data": {
      "text/plain": [
       "array([1869], dtype=int64)"
      ]
     },
     "execution_count": 51,
     "metadata": {},
     "output_type": "execute_result"
    }
   ],
   "source": [
    "#sliced all records with churning to another dataframe\n",
    "df2 = df[(df[\"Churn\"] == \"Yes\")]\n",
    "df2.count().unique()"
   ]
  },
  {
   "cell_type": "code",
   "execution_count": 52,
   "id": "c88353ea",
   "metadata": {},
   "outputs": [
    {
     "data": {
      "text/plain": [
       "Index(['customerID', 'gender', 'SeniorCitizen', 'Partner', 'Dependents',\n",
       "       'tenure', 'PhoneService', 'MultipleLines', 'InternetService',\n",
       "       'OnlineSecurity', 'OnlineBackup', 'DeviceProtection', 'TechSupport',\n",
       "       'StreamingTV', 'StreamingMovies', 'Contract', 'PaperlessBilling',\n",
       "       'PaymentMethod', 'MonthlyCharges', 'TotalCharges', 'Churn'],\n",
       "      dtype='object')"
      ]
     },
     "execution_count": 52,
     "metadata": {},
     "output_type": "execute_result"
    }
   ],
   "source": [
    "df2.columns"
   ]
  },
  {
   "cell_type": "code",
   "execution_count": 53,
   "id": "54c80afb",
   "metadata": {},
   "outputs": [
    {
     "data": {
      "text/plain": [
       "array([29.85, 56.95, 53.85, ..., 63.1 , 44.2 , 78.7 ])"
      ]
     },
     "execution_count": 53,
     "metadata": {},
     "output_type": "execute_result"
    }
   ],
   "source": [
    "df[\"MonthlyCharges\"].unique()"
   ]
  },
  {
   "cell_type": "code",
   "execution_count": 54,
   "id": "d5088a71",
   "metadata": {},
   "outputs": [
    {
     "data": {
      "image/png": "[encoded data removed]",
      "text/plain": [
       "<Figure size 1800x1080 with 1 Axes>"
      ]
     },
     "metadata": {
      "needs_background": "light"
     },
     "output_type": "display_data"
    }
   ],
   "source": [
    "plt.figure(figsize=(25, 15))\n",
    "plt.hist(np.array(df2[\"MonthlyCharges\"]))\n",
    "plt.show()  \n",
    "#customers who churned mostly belonged to those who had monthly charges in range (70,110)."
   ]
  },
  {
   "cell_type": "code",
   "execution_count": 55,
   "id": "b1deacca",
   "metadata": {},
   "outputs": [
    {
     "data": {
      "image/png": "[encoded data removed]",
      "text/plain": [
       "<Figure size 1800x1080 with 1 Axes>"
      ]
     },
     "metadata": {
      "needs_background": "light"
     },
     "output_type": "display_data"
    }
   ],
   "source": [
    "plt.figure(figsize=(25, 15))\n",
    "plt.hist(np.array(df2[\"tenure\"]))\n",
    "plt.show() \n",
    "#as tenure increases churning rate decreases."
   ]
  },
  {
   "cell_type": "markdown",
   "id": "b46455de",
   "metadata": {},
   "source": [
    " "
   ]
  }
 ],
 "metadata": {
  "kernelspec": {
   "display_name": "Python 3 (ipykernel)",
   "language": "python",
   "name": "python3"
  },
  "language_info": {
   "codemirror_mode": {
    "name": "ipython",
    "version": 3
   },
   "file_extension": ".py",
   "mimetype": "text/x-python",
   "name": "python",
   "nbconvert_exporter": "python",
   "pygments_lexer": "ipython3",
   "version": "3.9.12"
  }
 },
 "nbformat": 4,
 "nbformat_minor": 5
}
